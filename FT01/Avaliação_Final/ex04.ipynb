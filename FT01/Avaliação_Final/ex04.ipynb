{
 "cells": [
  {
   "cell_type": "markdown",
   "metadata": {},
   "source": [
    "##Utilizando a biblioteca NumPy :"
   ]
  },
  {
   "cell_type": "code",
   "execution_count": 1,
   "metadata": {},
   "outputs": [],
   "source": [
    "import numpy as np\n"
   ]
  },
  {
   "cell_type": "markdown",
   "metadata": {},
   "source": [
    "a. Cria um array de números 1 com shape (8, 2) "
   ]
  },
  {
   "cell_type": "code",
   "execution_count": null,
   "metadata": {},
   "outputs": [
    {
     "name": "stdout",
     "output_type": "stream",
     "text": [
      "Array de números 1 (shape 8, 2):\n",
      "[[1. 1.]\n",
      " [1. 1.]\n",
      " [1. 1.]\n",
      " [1. 1.]\n",
      " [1. 1.]\n",
      " [1. 1.]\n",
      " [1. 1.]\n",
      " [1. 1.]]\n"
     ]
    }
   ],
   "source": [
    "array_ones = np.ones((8, 2))\n",
    "print('Array de números 1 (shape 8, 2):')\n",
    "print(array_ones)"
   ]
  },
  {
   "cell_type": "markdown",
   "metadata": {},
   "source": [
    "b. Cria um array de zeros com shape (5, 7)"
   ]
  },
  {
   "cell_type": "code",
   "execution_count": 3,
   "metadata": {},
   "outputs": [
    {
     "name": "stdout",
     "output_type": "stream",
     "text": [
      "\n",
      "Array de zeros (shape 5, 7):\n",
      "[[0. 0. 0. 0. 0. 0. 0.]\n",
      " [0. 0. 0. 0. 0. 0. 0.]\n",
      " [0. 0. 0. 0. 0. 0. 0.]\n",
      " [0. 0. 0. 0. 0. 0. 0.]\n",
      " [0. 0. 0. 0. 0. 0. 0.]]\n"
     ]
    }
   ],
   "source": [
    "array_zeros = np.zeros((5, 7))\n",
    "print(\"\\nArray de zeros (shape 5, 7):\")\n",
    "print(array_zeros)"
   ]
  },
  {
   "cell_type": "markdown",
   "metadata": {},
   "source": [
    "c. Subtraia o novo array de outro com dados aleatórios e armazene o numa variável chamada subarray "
   ]
  },
  {
   "cell_type": "code",
   "execution_count": 8,
   "metadata": {},
   "outputs": [
    {
     "name": "stdout",
     "output_type": "stream",
     "text": [
      "\n",
      "Subarray (random_array - array_zeros):\n",
      "[[0.71353169 0.71684187 0.1902742  0.53486428 0.93817532 0.29010535\n",
      "  0.98999843]\n",
      " [0.60133564 0.96282334 0.95801245 0.9409528  0.8955125  0.36744941\n",
      "  0.75396882]\n",
      " [0.47859863 0.43132196 0.92104722 0.88885073 0.03269715 0.17639005\n",
      "  0.98404655]\n",
      " [0.81959031 0.6997478  0.19273853 0.92765387 0.0625134  0.48788745\n",
      "  0.74165686]\n",
      " [0.69751918 0.01767941 0.53775453 0.3008563  0.10812103 0.34275179\n",
      "  0.01437299]]\n"
     ]
    }
   ],
   "source": [
    "random_array = np.random.rand(5, 7)\n",
    "subarray = random_array - array_zeros\n",
    "print(\"\\nSubarray (random_array - array_zeros):\")\n",
    "print(subarray)"
   ]
  },
  {
   "cell_type": "markdown",
   "metadata": {},
   "source": [
    "d. Calcula a média dos valores do array subarray"
   ]
  },
  {
   "cell_type": "code",
   "execution_count": 9,
   "metadata": {},
   "outputs": [
    {
     "name": "stdout",
     "output_type": "stream",
     "text": [
      "\n",
      "Média dos valores no subarray:\n",
      "0.5633611952886701\n"
     ]
    }
   ],
   "source": [
    "media_subarray = np.mean(subarray)\n",
    "print(\"\\nMédia dos valores no subarray:\")\n",
    "print(media_subarray)"
   ]
  }
 ],
 "metadata": {
  "kernelspec": {
   "display_name": "Python 3",
   "language": "python",
   "name": "python3"
  },
  "language_info": {
   "codemirror_mode": {
    "name": "ipython",
    "version": 3
   },
   "file_extension": ".py",
   "mimetype": "text/x-python",
   "name": "python",
   "nbconvert_exporter": "python",
   "pygments_lexer": "ipython3",
   "version": "3.13.1"
  }
 },
 "nbformat": 4,
 "nbformat_minor": 2
}
